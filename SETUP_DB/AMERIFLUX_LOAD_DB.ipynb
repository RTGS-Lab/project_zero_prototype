{
 "cells": [
  {
   "cell_type": "markdown",
   "id": "8f4940a3-a4dc-4a96-8e07-34b008eef572",
   "metadata": {},
   "source": [
    "# Loading Ameriflux stations to database\n",
    "Logan Gall\n",
    "\n",
    "29 May 2024"
   ]
  },
  {
   "cell_type": "code",
   "execution_count": 3,
   "id": "b31b9015-bea9-4dc7-89b2-bd1f0348002b",
   "metadata": {},
   "outputs": [],
   "source": [
    "import rpy2\n",
    "import os\n",
    "os.environ['R_HOME'] = 'C:\\Program Files\\R\\R-4.3.2'\n",
    "import rpy2.robjects as robjects\n",
    "from rpy2.robjects import pandas2ri\n",
    "from rpy2.robjects.packages import importr, data\n",
    "import psycopg2\n",
    "import csv\n",
    "utils = importr('utils')\n",
    "base = importr('base')\n",
    "amr = importr('amerifluxr')"
   ]
  },
  {
   "cell_type": "code",
   "execution_count": 4,
   "id": "cc35483e-2495-4806-a2ae-2238d12e2c8a",
   "metadata": {},
   "outputs": [],
   "source": [
    "dbname = 'postgres'\n",
    "user = 'postgres'\n",
    "password = 'Passwordd'\n",
    "host = 'localhost'\n",
    "station_data_path = './amf_station_data.csv'"
   ]
  },
  {
   "cell_type": "code",
   "execution_count": 5,
   "id": "1fe55d64-6b2a-44fb-94db-7a60c480cbde",
   "metadata": {},
   "outputs": [],
   "source": [
    "sites = amr.amf_site_info()\n",
    "with (robjects.default_converter + pandas2ri.converter).context():\n",
    "  pd_from_r_df = robjects.conversion.get_conversion().rpy2py(sites)\n",
    "\n",
    "pd_from_r_df\n",
    "pd_from_r_df.to_csv(station_data_path, index = False)"
   ]
  },
  {
   "cell_type": "code",
   "execution_count": 6,
   "id": "45866afe-98ff-451d-a251-a40cb1ca52b5",
   "metadata": {},
   "outputs": [],
   "source": [
    "# Table creation SQL statement (adjust according to your data)\n",
    "# Example assumes a table with columns: id (integer), name (text), and age (integer)\n",
    "create_table_sql = \"\"\"\n",
    "CREATE TABLE IF NOT EXISTS amf_stations (\n",
    "    site_id VARCHAR(255) PRIMARY KEY,\n",
    "    site_name TEXT,\n",
    "    country TEXT,\n",
    "    state TEXT,\n",
    "    url_ameriflux TEXT,\n",
    "    location_lat VARCHAR(255),\n",
    "    location_long VARCHAR(255),\n",
    "    location_elev VARCHAR(255),\n",
    "    data_policy TEXT,\n",
    "    data_start NUMERIC,\n",
    "    data_end NUMERIC\n",
    ");\n",
    "\"\"\"\n",
    "\n",
    "# Connect to your postgres DB\n",
    "conn = psycopg2.connect(dbname=dbname, user=user, password=password, host=host)\n",
    "\n",
    "# Open a cursor to perform database operations\n",
    "cur = conn.cursor()\n",
    "\n",
    "# Execute the SQL to create the table if it doesn't exist\n",
    "cur.execute(create_table_sql)\n",
    "conn.commit()  # Commit immediately after creating the table\n",
    "\n",
    "# Close the cursor and connection\n",
    "cur.close()\n",
    "conn.close()"
   ]
  },
  {
   "cell_type": "code",
   "execution_count": 7,
   "id": "7da6291d-edb4-41a3-b09f-7696054da552",
   "metadata": {},
   "outputs": [],
   "source": [
    "# Connect to your postgres DB\n",
    "conn = psycopg2.connect(dbname=dbname, user=user, password=password, host=host)\n",
    "\n",
    "# Open a cursor to perform database operations\n",
    "cur = conn.cursor()\n",
    "\n",
    "with open(station_data_path, newline='') as csvfile:\n",
    "    reader = csv.DictReader(csvfile)\n",
    "    count = 0\n",
    "    for row in reader:\n",
    "        count += 1\n",
    "        if (count % 10000) == 0:\n",
    "            conn.commit()\n",
    "            print('commit')\n",
    "        cur.execute(\"\"\"\n",
    "            INSERT INTO amf_stations(site_id, site_name, country, state, url_ameriflux, location_lat, location_long, location_elev, data_policy, data_start, data_end)\n",
    "            VALUES (%s, %s, %s, %s, %s, %s, %s, %s, %s, %s, %s)\n",
    "            ON CONFLICT (site_id) DO NOTHING;\n",
    "        \"\"\", (row['SITE_ID'], row['SITE_NAME'], row['COUNTRY'], row['STATE'], row['URL_AMERIFLUX'], row['LOCATION_LAT'], row['LOCATION_LONG'], row['LOCATION_ELEV'], row['DATA_POLICY'], row['DATA_START'], row['DATA_END']))\n",
    "\n",
    "conn.commit()\n",
    "\n",
    "# Close the cursor and connection\n",
    "cur.close()\n",
    "conn.close()"
   ]
  },
  {
   "cell_type": "code",
   "execution_count": null,
   "id": "032fc8e9-4a3f-45b4-a76f-0ce14105dcc9",
   "metadata": {},
   "outputs": [],
   "source": []
  }
 ],
 "metadata": {
  "kernelspec": {
   "display_name": "Python 3 (ipykernel)",
   "language": "python",
   "name": "python3"
  },
  "language_info": {
   "codemirror_mode": {
    "name": "ipython",
    "version": 3
   },
   "file_extension": ".py",
   "mimetype": "text/x-python",
   "name": "python",
   "nbconvert_exporter": "python",
   "pygments_lexer": "ipython3",
   "version": "3.11.5"
  }
 },
 "nbformat": 4,
 "nbformat_minor": 5
}
