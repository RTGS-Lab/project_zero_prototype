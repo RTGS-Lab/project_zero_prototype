{
 "cells": [
  {
   "cell_type": "markdown",
   "id": "5a30c440",
   "metadata": {},
   "source": [
    "# Historical Climate Data Download\n",
    "This file downloads data from the PRISM Dataset FTP Server. This contains 4km gridded climate data. \n",
    "Source: https://ftp.prism.oregonstate.edu/monthly/\n",
    "\n",
    "The program uses requests to download grid files for each month of the year one at a time."
   ]
  },
  {
   "cell_type": "code",
   "execution_count": 11,
   "id": "41894688",
   "metadata": {},
   "outputs": [],
   "source": [
    "import requests\n",
    "import os\n",
    "\n",
    "##DOWNLOAD_FILE: performs request call and downloads file to given directory.\n",
    "def download_file(url, target_folder):\n",
    "    # Extract filename from URL\n",
    "    filename = url.split('/')[-1]\n",
    "\n",
    "    # Make sure the target folder exists\n",
    "    if not os.path.exists(target_folder):\n",
    "        os.makedirs(target_folder)\n",
    "\n",
    "    # Full path for saving the file\n",
    "    full_path = os.path.join(target_folder, filename)\n",
    "\n",
    "    # Send a GET request to the URL\n",
    "    response = requests.get(url, stream=True)\n",
    "    \n",
    "    # Raise an exception if the request was unsuccessful\n",
    "    response.raise_for_status()\n",
    "\n",
    "    # Open the target file in binary write mode\n",
    "    with open(full_path, 'wb') as file:\n",
    "        # Write the content of the response in chunks to the file\n",
    "        for chunk in response.iter_content(chunk_size=8192):\n",
    "            file.write(chunk)\n",
    "\n",
    "    print(f\"File downloaded: {full_path}\")"
   ]
  },
  {
   "cell_type": "code",
   "execution_count": 17,
   "id": "5f8535d6",
   "metadata": {},
   "outputs": [],
   "source": [
    "##file_downloads: This is an interface for the NOAA data. needs web directory and then iterates for 12 months.\n",
    "def file_downloads(year, endpoint):\n",
    "    web_dir = 'https://ftp.prism.oregonstate.edu/monthly/'\n",
    "    year = str(year)\n",
    "    output_dir = 'downloaded_files\\\\' + endpoint + '\\\\' + year\n",
    "    \n",
    "    start = 'PRISM_' + endpoint + '_stable_4kmM3_'\n",
    "    end = '_all_bil.zip'\n",
    "    \n",
    "    filepath = endpoint + '/' + year + '/' + start + year + end\n",
    "    print(filepath)\n",
    "    filepath = web_dir + filepath\n",
    "    try:\n",
    "        download_file(filepath, output_dir)\n",
    "    \n",
    "    except Exception as e:\n",
    "        print('error')\n",
    "        print(e)"
   ]
  },
  {
   "cell_type": "code",
   "execution_count": 30,
   "id": "d4803c30",
   "metadata": {},
   "outputs": [],
   "source": [
    "##Main function. Change how many years you want to download.\n",
    "#WARNING: downloading all the data from 1951 on will take a lot of storage!\n",
    "# Roughtly 60gb (~60Mb per file, 12 months per year, 72 years)\n",
    "def main():\n",
    "    start = 1990\n",
    "    end = 2023\n",
    "    \n",
    "    for i in range(end-start+1):\n",
    "        thisyear = start + i\n",
    "        file_downloads(thisyear, \"vpdmin\")"
   ]
  },
  {
   "cell_type": "code",
   "execution_count": 31,
   "id": "0d77688e",
   "metadata": {
    "scrolled": true
   },
   "outputs": [
    {
     "name": "stdout",
     "output_type": "stream",
     "text": [
      "vpdmin/1990/PRISM_vpdmin_stable_4kmM3_1990_all_bil.zip\n",
      "File downloaded: downloaded_files\\vpdmin\\1990\\PRISM_vpdmin_stable_4kmM3_1990_all_bil.zip\n",
      "vpdmin/1991/PRISM_vpdmin_stable_4kmM3_1991_all_bil.zip\n",
      "File downloaded: downloaded_files\\vpdmin\\1991\\PRISM_vpdmin_stable_4kmM3_1991_all_bil.zip\n",
      "vpdmin/1992/PRISM_vpdmin_stable_4kmM3_1992_all_bil.zip\n",
      "File downloaded: downloaded_files\\vpdmin\\1992\\PRISM_vpdmin_stable_4kmM3_1992_all_bil.zip\n",
      "vpdmin/1993/PRISM_vpdmin_stable_4kmM3_1993_all_bil.zip\n",
      "File downloaded: downloaded_files\\vpdmin\\1993\\PRISM_vpdmin_stable_4kmM3_1993_all_bil.zip\n",
      "vpdmin/1994/PRISM_vpdmin_stable_4kmM3_1994_all_bil.zip\n",
      "File downloaded: downloaded_files\\vpdmin\\1994\\PRISM_vpdmin_stable_4kmM3_1994_all_bil.zip\n",
      "vpdmin/1995/PRISM_vpdmin_stable_4kmM3_1995_all_bil.zip\n",
      "File downloaded: downloaded_files\\vpdmin\\1995\\PRISM_vpdmin_stable_4kmM3_1995_all_bil.zip\n",
      "vpdmin/1996/PRISM_vpdmin_stable_4kmM3_1996_all_bil.zip\n",
      "File downloaded: downloaded_files\\vpdmin\\1996\\PRISM_vpdmin_stable_4kmM3_1996_all_bil.zip\n",
      "vpdmin/1997/PRISM_vpdmin_stable_4kmM3_1997_all_bil.zip\n",
      "File downloaded: downloaded_files\\vpdmin\\1997\\PRISM_vpdmin_stable_4kmM3_1997_all_bil.zip\n",
      "vpdmin/1998/PRISM_vpdmin_stable_4kmM3_1998_all_bil.zip\n",
      "File downloaded: downloaded_files\\vpdmin\\1998\\PRISM_vpdmin_stable_4kmM3_1998_all_bil.zip\n",
      "vpdmin/1999/PRISM_vpdmin_stable_4kmM3_1999_all_bil.zip\n",
      "File downloaded: downloaded_files\\vpdmin\\1999\\PRISM_vpdmin_stable_4kmM3_1999_all_bil.zip\n",
      "vpdmin/2000/PRISM_vpdmin_stable_4kmM3_2000_all_bil.zip\n",
      "File downloaded: downloaded_files\\vpdmin\\2000\\PRISM_vpdmin_stable_4kmM3_2000_all_bil.zip\n",
      "vpdmin/2001/PRISM_vpdmin_stable_4kmM3_2001_all_bil.zip\n",
      "File downloaded: downloaded_files\\vpdmin\\2001\\PRISM_vpdmin_stable_4kmM3_2001_all_bil.zip\n",
      "vpdmin/2002/PRISM_vpdmin_stable_4kmM3_2002_all_bil.zip\n",
      "File downloaded: downloaded_files\\vpdmin\\2002\\PRISM_vpdmin_stable_4kmM3_2002_all_bil.zip\n",
      "vpdmin/2003/PRISM_vpdmin_stable_4kmM3_2003_all_bil.zip\n",
      "File downloaded: downloaded_files\\vpdmin\\2003\\PRISM_vpdmin_stable_4kmM3_2003_all_bil.zip\n",
      "vpdmin/2004/PRISM_vpdmin_stable_4kmM3_2004_all_bil.zip\n",
      "File downloaded: downloaded_files\\vpdmin\\2004\\PRISM_vpdmin_stable_4kmM3_2004_all_bil.zip\n",
      "vpdmin/2005/PRISM_vpdmin_stable_4kmM3_2005_all_bil.zip\n",
      "File downloaded: downloaded_files\\vpdmin\\2005\\PRISM_vpdmin_stable_4kmM3_2005_all_bil.zip\n",
      "vpdmin/2006/PRISM_vpdmin_stable_4kmM3_2006_all_bil.zip\n",
      "File downloaded: downloaded_files\\vpdmin\\2006\\PRISM_vpdmin_stable_4kmM3_2006_all_bil.zip\n",
      "vpdmin/2007/PRISM_vpdmin_stable_4kmM3_2007_all_bil.zip\n",
      "File downloaded: downloaded_files\\vpdmin\\2007\\PRISM_vpdmin_stable_4kmM3_2007_all_bil.zip\n",
      "vpdmin/2008/PRISM_vpdmin_stable_4kmM3_2008_all_bil.zip\n",
      "File downloaded: downloaded_files\\vpdmin\\2008\\PRISM_vpdmin_stable_4kmM3_2008_all_bil.zip\n",
      "vpdmin/2009/PRISM_vpdmin_stable_4kmM3_2009_all_bil.zip\n",
      "File downloaded: downloaded_files\\vpdmin\\2009\\PRISM_vpdmin_stable_4kmM3_2009_all_bil.zip\n",
      "vpdmin/2010/PRISM_vpdmin_stable_4kmM3_2010_all_bil.zip\n",
      "File downloaded: downloaded_files\\vpdmin\\2010\\PRISM_vpdmin_stable_4kmM3_2010_all_bil.zip\n",
      "vpdmin/2011/PRISM_vpdmin_stable_4kmM3_2011_all_bil.zip\n",
      "File downloaded: downloaded_files\\vpdmin\\2011\\PRISM_vpdmin_stable_4kmM3_2011_all_bil.zip\n",
      "vpdmin/2012/PRISM_vpdmin_stable_4kmM3_2012_all_bil.zip\n",
      "File downloaded: downloaded_files\\vpdmin\\2012\\PRISM_vpdmin_stable_4kmM3_2012_all_bil.zip\n",
      "vpdmin/2013/PRISM_vpdmin_stable_4kmM3_2013_all_bil.zip\n",
      "File downloaded: downloaded_files\\vpdmin\\2013\\PRISM_vpdmin_stable_4kmM3_2013_all_bil.zip\n",
      "vpdmin/2014/PRISM_vpdmin_stable_4kmM3_2014_all_bil.zip\n",
      "File downloaded: downloaded_files\\vpdmin\\2014\\PRISM_vpdmin_stable_4kmM3_2014_all_bil.zip\n",
      "vpdmin/2015/PRISM_vpdmin_stable_4kmM3_2015_all_bil.zip\n",
      "File downloaded: downloaded_files\\vpdmin\\2015\\PRISM_vpdmin_stable_4kmM3_2015_all_bil.zip\n",
      "vpdmin/2016/PRISM_vpdmin_stable_4kmM3_2016_all_bil.zip\n",
      "File downloaded: downloaded_files\\vpdmin\\2016\\PRISM_vpdmin_stable_4kmM3_2016_all_bil.zip\n",
      "vpdmin/2017/PRISM_vpdmin_stable_4kmM3_2017_all_bil.zip\n",
      "File downloaded: downloaded_files\\vpdmin\\2017\\PRISM_vpdmin_stable_4kmM3_2017_all_bil.zip\n",
      "vpdmin/2018/PRISM_vpdmin_stable_4kmM3_2018_all_bil.zip\n",
      "File downloaded: downloaded_files\\vpdmin\\2018\\PRISM_vpdmin_stable_4kmM3_2018_all_bil.zip\n",
      "vpdmin/2019/PRISM_vpdmin_stable_4kmM3_2019_all_bil.zip\n",
      "File downloaded: downloaded_files\\vpdmin\\2019\\PRISM_vpdmin_stable_4kmM3_2019_all_bil.zip\n",
      "vpdmin/2020/PRISM_vpdmin_stable_4kmM3_2020_all_bil.zip\n",
      "File downloaded: downloaded_files\\vpdmin\\2020\\PRISM_vpdmin_stable_4kmM3_2020_all_bil.zip\n",
      "vpdmin/2021/PRISM_vpdmin_stable_4kmM3_2021_all_bil.zip\n",
      "File downloaded: downloaded_files\\vpdmin\\2021\\PRISM_vpdmin_stable_4kmM3_2021_all_bil.zip\n",
      "vpdmin/2022/PRISM_vpdmin_stable_4kmM3_2022_all_bil.zip\n",
      "error\n",
      "404 Client Error: Not Found for url: https://ftp.prism.oregonstate.edu/monthly/vpdmin/2022/PRISM_vpdmin_stable_4kmM3_2022_all_bil.zip\n",
      "vpdmin/2023/PRISM_vpdmin_stable_4kmM3_2023_all_bil.zip\n",
      "error\n",
      "404 Client Error: Not Found for url: https://ftp.prism.oregonstate.edu/monthly/vpdmin/2023/PRISM_vpdmin_stable_4kmM3_2023_all_bil.zip\n"
     ]
    }
   ],
   "source": [
    "main()"
   ]
  },
  {
   "cell_type": "code",
   "execution_count": null,
   "id": "72d54b62",
   "metadata": {},
   "outputs": [],
   "source": []
  }
 ],
 "metadata": {
  "kernelspec": {
   "display_name": "Python 3 (ipykernel)",
   "language": "python",
   "name": "python3"
  },
  "language_info": {
   "codemirror_mode": {
    "name": "ipython",
    "version": 3
   },
   "file_extension": ".py",
   "mimetype": "text/x-python",
   "name": "python",
   "nbconvert_exporter": "python",
   "pygments_lexer": "ipython3",
   "version": "3.11.5"
  }
 },
 "nbformat": 4,
 "nbformat_minor": 5
}
