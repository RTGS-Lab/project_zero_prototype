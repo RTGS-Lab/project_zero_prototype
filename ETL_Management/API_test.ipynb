{
 "cells": [
  {
   "cell_type": "code",
   "execution_count": 14,
   "id": "b346de19-f510-487f-b26b-3896f4584424",
   "metadata": {},
   "outputs": [
    {
     "name": "stdout",
     "output_type": "stream",
     "text": [
      "Request successful!\n",
      "Response: {'translatiion': True, 'DB_Connect': True, 'generate_sql': {'SELECT': 'SELECT *', 'FROM': 'FROM \"noaa_api\"', 'WHERE': \"WHERE 1=1 AND date >= '2024-01-02' AND date <= '2024-01-02' AND datatype IN ('PRCP', 'TAVG')\"}, 'Execute_SQL': 'Successfully executed. Rows returned: 691.', 'generate_api_call': {'url': 'https://www.ncdc.noaa.gov/cdo-web/api/v2/', 'endpoint': '/data/', 'headers': {'token': 'IzgpadcMrEYtDZiJDnBOfeARfEWoPEdO'}, 'parameters': {'datasetid': 'GHCND', 'limit': 1, 'offset': 0, 'locationid': 'FIPS:27', 'startdate': '2024-01-02', 'enddate': '2024-01-02', 'datatypeid': 'PRCP,TAVG'}}, 'api_call': 'API returned 691', 'check_completeness': True}\n"
     ]
    }
   ],
   "source": [
    "import requests\n",
    "\n",
    "# Define the URL of the NOAA_API_CALL endpoint\n",
    "url = 'http://localhost:5000/NOAA_API_CALL'\n",
    "\n",
    "# Define the data to be sent to the API, including all optional arguments with their defaults\n",
    "data = {\n",
    "    'Endpoint': 'NOAA_DATA',\n",
    "    'Call_Direct_Download': 'FALSE',  # Use 'CSV' or 'JSON' for direct download\n",
    "    'API_Arguments': {\n",
    "        'startdate' : '2024-01-02',\n",
    "        'enddate' : '2024-01-02',\n",
    "        'datatypeid' :  'PRCP,TAVG',\n",
    "    },\n",
    "    # Optional arguments with their default values\n",
    "    'Call_Parameter_Check': True,\n",
    "    'Call_DB': True,\n",
    "    'Call_API': True,\n",
    "    'Call_Completeness': True,\n",
    "    'Call_Fill_Incomplete': True,\n",
    "    'Call_Aggregation': True,\n",
    "        'DB_Credentials': {\n",
    "        'dbname' : 'postgres',\n",
    "        'user' : 'postgres',\n",
    "        'password' : 'Passwordd',\n",
    "        'host' : 'localhost',\n",
    "        'port' : '5432'\n",
    "    },\n",
    "    'NOAA_API_KEY': 'IzgpadcMrEYtDZiJDnBOfeARfEWoPEdO',  # Replace with your actual NOAA API key if required  # Replace with your actual NOAA API key if required\n",
    "    'Additional_Arguments': {\n",
    "        'return_columns' : ['date', 'datatype', 'value'],\n",
    "        'aggregation' : {'time' : 'weekly',\n",
    "                         'prcp' : 'SUM',\n",
    "                         'tavg' : 'MEAN'\n",
    "                        }\n",
    "    }  # Assuming an empty JSON object for demonstration; add additional arguments as needed\n",
    "}\n",
    "\n",
    "# Make the POST request, using the `json` parameter to ensure proper formatting\n",
    "response = requests.post(url, json=data)\n",
    "\n",
    "# Check if the request was successful\n",
    "if response.status_code == 200:\n",
    "    print('Request successful!')\n",
    "    print('Response:', response.json())\n",
    "else:\n",
    "    print('Request failed with status code:', response.status_code)\n",
    "    print('Response:', response.text)\n"
   ]
  },
  {
   "cell_type": "code",
   "execution_count": 9,
   "id": "e05bd28c-4eaf-41a9-8d5f-563ae7522226",
   "metadata": {},
   "outputs": [
    {
     "data": {
      "text/plain": [
       "' \\n    def generate_sql(self, translation, api_arguments, additional_arguments):\\n        # Determine the columns to select based on additional_arguments\\n        if additional_arguments.get(\\'return_columns\\'):\\n            select_clause = \"SELECT \" + \", \".join([\\'\"\\' + col + \\'\"\\' for col in additional_arguments[\\'return_columns\\']])\\n        else:\\n            select_clause = \"SELECT *\"\\n        \\n        from_clause = \\'FROM \"\\' + translation[\\'table\\'] + \\'\"\\'  # Ensure table_name is correctly quoted for SQL\\n        \\n        where_clause = \"WHERE 1=1\"\\n    \\n        # Loop through each API argument and add its condition to the WHERE clause if it\\'s recognized\\n        for arg, value in api_arguments.items():\\n            if arg in translation[\\'sql\\']:\\n                # Check if the argument value contains multiple values separated by commas\\n                if \\',\\' in value:\\n                    # Split the value and prepare the SQL IN clause\\n                    values_list = value.split(\\',\\')\\n                    in_clause = \"(\" + \", \".join([\"\\'\" + val + \"\\'\" for val in values_list]) + \")\"\\n                    condition = translation[\\'sql\\'][arg] + \" IN \" + in_clause\\n                else:\\n                    # Handle single value condition\\n                    condition = translation[\\'sql\\'][arg] + \"= \\'\" + value + \"\\'\"\\n                where_clause += \" AND \" + condition\\n    \\n        sql_statement = {\\n            \"SELECT\": select_clause,\\n            \"FROM\": from_clause,\\n            \"WHERE\": where_clause\\n        }\\n    \\n        self.response_codes[\\'generate_sql\\'] = sql_statement\\n        \\n        # Returning each section of the SQL statement as a dictionary\\n        return sql_statement\\n'"
      ]
     },
     "execution_count": 9,
     "metadata": {},
     "output_type": "execute_result"
    }
   ],
   "source": [
    "\"\"\" \n",
    "    def generate_sql(self, translation, api_arguments, additional_arguments):\n",
    "        # Determine the columns to select based on additional_arguments\n",
    "        if additional_arguments.get('return_columns'):\n",
    "            select_clause = \"SELECT \" + \", \".join(['\"' + col + '\"' for col in additional_arguments['return_columns']])\n",
    "        else:\n",
    "            select_clause = \"SELECT *\"\n",
    "        \n",
    "        from_clause = 'FROM \"' + translation['table'] + '\"'  # Ensure table_name is correctly quoted for SQL\n",
    "        \n",
    "        where_clause = \"WHERE 1=1\"\n",
    "    \n",
    "        # Loop through each API argument and add its condition to the WHERE clause if it's recognized\n",
    "        for arg, value in api_arguments.items():\n",
    "            if arg in translation['sql']:\n",
    "                # Check if the argument value contains multiple values separated by commas\n",
    "                if ',' in value:\n",
    "                    # Split the value and prepare the SQL IN clause\n",
    "                    values_list = value.split(',')\n",
    "                    in_clause = \"(\" + \", \".join([\"'\" + val + \"'\" for val in values_list]) + \")\"\n",
    "                    condition = translation['sql'][arg] + \" IN \" + in_clause\n",
    "                else:\n",
    "                    # Handle single value condition\n",
    "                    condition = translation['sql'][arg] + \"= '\" + value + \"'\"\n",
    "                where_clause += \" AND \" + condition\n",
    "    \n",
    "        sql_statement = {\n",
    "            \"SELECT\": select_clause,\n",
    "            \"FROM\": from_clause,\n",
    "            \"WHERE\": where_clause\n",
    "        }\n",
    "    \n",
    "        self.response_codes['generate_sql'] = sql_statement\n",
    "        \n",
    "        # Returning each section of the SQL statement as a dictionary\n",
    "        return sql_statement\n",
    "\"\"\""
   ]
  },
  {
   "cell_type": "code",
   "execution_count": null,
   "id": "c212133b-b3ea-4ff5-97b2-9e72857c6532",
   "metadata": {},
   "outputs": [],
   "source": []
  }
 ],
 "metadata": {
  "kernelspec": {
   "display_name": "Python 3 (ipykernel)",
   "language": "python",
   "name": "python3"
  },
  "language_info": {
   "codemirror_mode": {
    "name": "ipython",
    "version": 3
   },
   "file_extension": ".py",
   "mimetype": "text/x-python",
   "name": "python",
   "nbconvert_exporter": "python",
   "pygments_lexer": "ipython3",
   "version": "3.11.5"
  }
 },
 "nbformat": 4,
 "nbformat_minor": 5
}
