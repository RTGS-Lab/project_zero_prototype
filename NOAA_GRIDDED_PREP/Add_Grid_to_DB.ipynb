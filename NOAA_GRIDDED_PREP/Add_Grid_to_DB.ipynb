{
 "cells": [
  {
   "cell_type": "code",
   "execution_count": 3,
   "id": "fd886d47-a984-4406-ab84-a79621113375",
   "metadata": {},
   "outputs": [
    {
     "name": "stdout",
     "output_type": "stream",
     "text": [
      "file downloaded\n",
      "file written\n",
      "table created\n",
      "inserted\n"
     ]
    }
   ],
   "source": [
    "import psycopg2\n",
    "import xarray as xr\n",
    "import requests\n",
    "\n",
    "# Download the NetCDF file\n",
    "file_url = \"https://www.ncei.noaa.gov/data/nclimgrid-daily/access/grids/2000/ncdd-200012-grd-scaled.nc\"\n",
    "file_path = \"ncdd-200012-grd-scaled.nc\"\n",
    "response = requests.get(file_url)\n",
    "print(\"file downloaded\")\n",
    "with open(file_path, 'wb') as file:\n",
    "    file.write(response.content)\n",
    "print(\"file written\")\n",
    "# Load the dataset from the downloaded file\n",
    "ds = xr.open_dataset(file_path)\n",
    "\n",
    "# Extract the latitude and longitude coordinates\n",
    "latitudes = ds['lat'].values\n",
    "longitudes = ds['lon'].values\n",
    "\n",
    "# Combine latitude and longitude into coordinate pairs and convert to standard Python floats\n",
    "coordinates = [(float(lat), float(lon)) for lat in latitudes for lon in longitudes]\n",
    "\n",
    "# Close the dataset\n",
    "ds.close()\n",
    "\n",
    "# Database connection parameters\n",
    "db_params = {\n",
    "    'dbname': 'postgres',\n",
    "    'user': 'postgres',\n",
    "    'password': 'Passwordd',\n",
    "    'host': 'localhost',\n",
    "    'port': '5432'\n",
    "}\n",
    "\n",
    "# Connect to the PostgreSQL database\n",
    "conn = psycopg2.connect(**db_params)\n",
    "cur = conn.cursor()\n",
    "\n",
    "# Create the table if it does not exist\n",
    "create_table_query = '''\n",
    "CREATE TABLE IF NOT EXISTS noaa_grid_coords (\n",
    "    id SERIAL PRIMARY KEY,\n",
    "    latitude DOUBLE PRECISION,\n",
    "    longitude DOUBLE PRECISION\n",
    ");\n",
    "'''\n",
    "cur.execute(create_table_query)\n",
    "print(\"table created\")\n",
    "# Insert coordinates into the table\n",
    "insert_query = '''\n",
    "INSERT INTO noaa_grid_coords (latitude, longitude) VALUES (%s, %s)\n",
    "'''\n",
    "cur.executemany(insert_query, coordinates)\n",
    "print(\"inserted\")\n",
    "# Commit the transaction and close the connection\n",
    "conn.commit()\n",
    "cur.close()\n",
    "conn.close()"
   ]
  },
  {
   "cell_type": "code",
   "execution_count": null,
   "id": "d1f4db93-2faf-4172-b48d-7e36e5ecb5e5",
   "metadata": {},
   "outputs": [],
   "source": []
  }
 ],
 "metadata": {
  "kernelspec": {
   "display_name": "Python 3 (ipykernel)",
   "language": "python",
   "name": "python3"
  },
  "language_info": {
   "codemirror_mode": {
    "name": "ipython",
    "version": 3
   },
   "file_extension": ".py",
   "mimetype": "text/x-python",
   "name": "python",
   "nbconvert_exporter": "python",
   "pygments_lexer": "ipython3",
   "version": "3.11.5"
  }
 },
 "nbformat": 4,
 "nbformat_minor": 5
}
