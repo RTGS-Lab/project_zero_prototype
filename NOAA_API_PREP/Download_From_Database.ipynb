{
 "cells": [
  {
   "cell_type": "code",
   "execution_count": 7,
   "id": "9f93cff5-9d77-4377-95bb-26e0df9139b3",
   "metadata": {},
   "outputs": [
    {
     "name": "stdout",
     "output_type": "stream",
     "text": [
      "Notification sent successfully.\n"
     ]
    }
   ],
   "source": [
    "def send_pushover_notification(user_key, app_token, message):\n",
    "    url = \"https://api.pushover.net/1/messages.json\"\n",
    "    data = {\n",
    "        \"token\": app_token,\n",
    "        \"user\": user_key,\n",
    "        \"message\": message\n",
    "    }\n",
    "    response = requests.post(url, data=data)\n",
    "    if response.status_code == 200:\n",
    "        print(\"Notification sent successfully.\")\n",
    "    else:\n",
    "        print(f\"Failed to send notification. Status code: {response.status_code}\")\n",
    "\n",
    "with open('../API_Keys/Pushover_USER.txt', 'r') as file:\n",
    "    USER_KEY = file.read().strip()\n",
    "\n",
    "with open('../API_Keys/Pushover_APP.txt', 'r') as file:\n",
    "    APP_TOKEN = file.read().strip()\n",
    "\n",
    "send_pushover_notification(USER_KEY, APP_TOKEN, \"Test\")"
   ]
  },
  {
   "cell_type": "code",
   "execution_count": 5,
   "id": "5b3dec19-a87b-4fb0-ab2a-39eb5c9431b5",
   "metadata": {},
   "outputs": [
    {
     "name": "stdout",
     "output_type": "stream",
     "text": [
      "Data successfully written to data_TMINTMAXPRCP_2019_2023.csv\n",
      "Notification sent successfully.\n"
     ]
    }
   ],
   "source": [
    "import psycopg2\n",
    "import csv\n",
    "\n",
    "# Database connection parameters\n",
    "dbname = \"postgres\"\n",
    "user = \"postgres\"\n",
    "password = \"Passwordd\"\n",
    "host = \"localhost\"  # or your host if not local\n",
    "port = \"5432\"  # default PostgreSQL port\n",
    "\n",
    "# SQL query to execute\n",
    "sql_query = \"\"\"\n",
    "    SELECT a.*, s.*\n",
    "    FROM noaa_api a\n",
    "    JOIN noaa_station_list s\n",
    "    ON a.station = s.id\n",
    "    WHERE a.datatype IN ('TMIN', 'TMAX', 'PRCP');\n",
    "    \"\"\"\n",
    "\n",
    "# CSV file path to save the data\n",
    "csv_file_path = \"data_TMINTMAXPRCP_2019_2023.csv\"\n",
    "\n",
    "# Establish connection to the database\n",
    "try:\n",
    "    conn = psycopg2.connect(\n",
    "        dbname=dbname,\n",
    "        user=user,\n",
    "        password=password,\n",
    "        host=host,\n",
    "        port=port\n",
    "    )\n",
    "except Exception as e:\n",
    "    print(\"Error in connecting to the database: \", e)\n",
    "    exit()\n",
    "\n",
    "# Create a cursor and execute the SQL query\n",
    "try:\n",
    "    with conn.cursor() as cur:\n",
    "        cur.execute(sql_query)\n",
    "\n",
    "        # Fetch all rows\n",
    "        rows = cur.fetchall()\n",
    "\n",
    "        # Write to CSV file\n",
    "        with open(csv_file_path, 'w', newline='') as csvfile:\n",
    "            csvwriter = csv.writer(csvfile)\n",
    "            # Assuming you want to write headers as well\n",
    "            # Fetch the column names from cursor\n",
    "            col_names = [desc[0] for desc in cur.description]\n",
    "            csvwriter.writerow(col_names)\n",
    "            \n",
    "            # Write the rows to CSV\n",
    "            for row in rows:\n",
    "                csvwriter.writerow(row)\n",
    "\n",
    "        print(f\"Data successfully written to {csv_file_path}\")\n",
    "\n",
    "except Exception as e:\n",
    "    print(\"Error in fetching data or writing to CSV: \", e)\n",
    "finally:\n",
    "    conn.close()\n",
    "\n",
    "send_pushover_notification(USER_KEY, APP_TOKEN, \"Data download complete\")"
   ]
  },
  {
   "cell_type": "code",
   "execution_count": null,
   "id": "523cfc43-ccb5-4341-87b7-f47cea01b0bc",
   "metadata": {},
   "outputs": [],
   "source": []
  }
 ],
 "metadata": {
  "kernelspec": {
   "display_name": "Python 3 (ipykernel)",
   "language": "python",
   "name": "python3"
  },
  "language_info": {
   "codemirror_mode": {
    "name": "ipython",
    "version": 3
   },
   "file_extension": ".py",
   "mimetype": "text/x-python",
   "name": "python",
   "nbconvert_exporter": "python",
   "pygments_lexer": "ipython3",
   "version": "3.11.5"
  }
 },
 "nbformat": 4,
 "nbformat_minor": 5
}
